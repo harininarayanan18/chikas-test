{
 "cells": [
  {
   "cell_type": "markdown",
   "id": "convenient-membrane",
   "metadata": {},
   "source": [
    "### Testing for divisibility by 7:\n",
    "\n",
    "Take any number. Multiply the last digit with 5. Add this to the first 2 numbers (repeat if number of digits greater than 2)\n",
    "If the result is divisible by 7, then the number is divisible by 7.\n",
    "\n",
    "##### For example: \n",
    "\n",
    "Check if 182 is divisible by 7\n",
    "\n",
    "18 + (2 x 5) = 10\n",
    "\n",
    "Adding,\n",
    "\n",
    "18 + 10 = 28\n",
    "\n",
    "28 is a multiple of 7\n",
    "\n",
    "Therefore 182 is divisible by 7."
   ]
  },
  {
   "cell_type": "markdown",
   "id": "psychological-antenna",
   "metadata": {},
   "source": [
    "##### Assumption: \n",
    "\n",
    "This test is for numbers greater than 70, assuming that we can tell if a number less than 70 is divisible or not by 7."
   ]
  },
  {
   "cell_type": "code",
   "execution_count": 1,
   "id": "incident-disclosure",
   "metadata": {},
   "outputs": [],
   "source": [
    "def last_digit(number):\n",
    "    return int(str(number)[-1])"
   ]
  },
  {
   "cell_type": "code",
   "execution_count": 2,
   "id": "tired-september",
   "metadata": {},
   "outputs": [],
   "source": [
    "def all_digits_except_last(number):\n",
    "    return int(str(number)[:-1])"
   ]
  },
  {
   "cell_type": "code",
   "execution_count": 3,
   "id": "naked-survival",
   "metadata": {},
   "outputs": [],
   "source": [
    "def chikas_test(number):\n",
    "    result = all_digits_except_last(number) + (5 * last_digit(number))\n",
    "    if result > 70:\n",
    "        chikas_test(result)\n",
    "        \n",
    "    return result%7 == 0"
   ]
  },
  {
   "cell_type": "code",
   "execution_count": 4,
   "id": "following-royalty",
   "metadata": {},
   "outputs": [
    {
     "data": {
      "text/plain": [
       "True"
      ]
     },
     "execution_count": 4,
     "metadata": {},
     "output_type": "execute_result"
    }
   ],
   "source": [
    "chikas_test(99729)"
   ]
  },
  {
   "cell_type": "code",
   "execution_count": 5,
   "id": "unavailable-gossip",
   "metadata": {},
   "outputs": [
    {
     "data": {
      "text/plain": [
       "False"
      ]
     },
     "execution_count": 5,
     "metadata": {},
     "output_type": "execute_result"
    }
   ],
   "source": [
    "chikas_test(9671145)"
   ]
  },
  {
   "cell_type": "code",
   "execution_count": null,
   "id": "robust-mistress",
   "metadata": {},
   "outputs": [],
   "source": []
  },
  {
   "cell_type": "code",
   "execution_count": null,
   "id": "backed-stretch",
   "metadata": {},
   "outputs": [],
   "source": []
  }
 ],
 "metadata": {
  "kernelspec": {
   "display_name": "Python 3",
   "language": "python",
   "name": "python3"
  },
  "language_info": {
   "codemirror_mode": {
    "name": "ipython",
    "version": 3
   },
   "file_extension": ".py",
   "mimetype": "text/x-python",
   "name": "python",
   "nbconvert_exporter": "python",
   "pygments_lexer": "ipython3",
   "version": "3.7.3"
  }
 },
 "nbformat": 4,
 "nbformat_minor": 5
}
